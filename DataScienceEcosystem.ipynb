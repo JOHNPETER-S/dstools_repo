{
 "cells": [
  {
   "cell_type": "markdown",
   "id": "566a26b8-f5af-4a95-96fd-e70a15c6621a",
   "metadata": {},
   "source": [
    "# Data Science Tools and Ecosystem"
   ]
  },
  {
   "cell_type": "markdown",
   "id": "5ab9aa89-b34c-42b4-a9fd-b4bdc5dd3431",
   "metadata": {},
   "source": [
    "In this notebook, Data Science Tools and Ecosystem are summarized."
   ]
  },
  {
   "cell_type": "markdown",
   "id": "8759b23f-c466-4048-a89e-096e382dbae0",
   "metadata": {},
   "source": [
    "Some of the popular languages that Data Scientists use are:\n",
    "\n",
    "1.Python\n",
    "\n",
    "2.R\n",
    "\n",
    "3.SQL"
   ]
  },
  {
   "cell_type": "markdown",
   "id": "91369885-7400-4bee-9ea6-dbac1ec18f54",
   "metadata": {},
   "source": [
    "Some of the commonly used libraries used by Data Scientists include:\n",
    "\n",
    "1.Numpy\n",
    "\n",
    "2.Pandas\n",
    "\n",
    "3.Matplotlib\n",
    "\n",
    "4.Tensorflow\n",
    "\n",
    "5.scikit-Learn\n"
   ]
  },
  {
   "cell_type": "markdown",
   "id": "f53071cb-427f-428b-8fb8-cd742a491a24",
   "metadata": {},
   "source": [
    "**Objectives:**\n",
    "\n",
    "-Popular languages for Data Scientists\n",
    "\n",
    "-Common libraries used by Data Scientists\n",
    "\n",
    "-Popular Data Science tools"
   ]
  },
  {
   "cell_type": "markdown",
   "id": "82b228ad-b373-4d25-8e30-a3789d0ad7db",
   "metadata": {},
   "source": [
    "| Data Science Tools |\n",
    "| ------------------- |\n",
    "| Jupyter Notebooks |\n",
    "| Tensorflow |\n",
    "| tableu |\n",
    "| Apache Spark |"
   ]
  },
  {
   "cell_type": "markdown",
   "id": "3cfcfe57-6ab0-40fb-9327-27294551a05b",
   "metadata": {},
   "source": [
    "### Below are a few examples of evaluating arithmetic expressions in Python."
   ]
  },
  {
   "cell_type": "code",
   "execution_count": 3,
   "id": "ec0adce5-206f-40e5-adc1-86613bc6bdb6",
   "metadata": {},
   "outputs": [
    {
     "data": {
      "text/plain": [
       "17"
      ]
     },
     "execution_count": 3,
     "metadata": {},
     "output_type": "execute_result"
    }
   ],
   "source": [
    "# This a simple arithmetic expression to multiply, then add integers\n",
    "(3*4)+5"
   ]
  },
  {
   "cell_type": "code",
   "execution_count": 4,
   "id": "1c8560eb-8bb1-4ccc-9a1a-4d408ef3ed03",
   "metadata": {},
   "outputs": [
    {
     "data": {
      "text/plain": [
       "3.3333333333333335"
      ]
     },
     "execution_count": 4,
     "metadata": {},
     "output_type": "execute_result"
    }
   ],
   "source": [
    "# This will convert 200 minutes to hours by diving by 60\n",
    "200/60"
   ]
  },
  {
   "cell_type": "markdown",
   "id": "3d3ebfb1-dcc3-48ee-bff7-33c6ab20b3e1",
   "metadata": {},
   "source": [
    "## Author\n",
    "John Peter"
   ]
  }
 ],
 "metadata": {
  "kernelspec": {
   "display_name": "anaconda-2024.02-py310",
   "language": "python",
   "name": "conda-env-anaconda-2024.02-py310-py"
  },
  "language_info": {
   "codemirror_mode": {
    "name": "ipython",
    "version": 3
   },
   "file_extension": ".py",
   "mimetype": "text/x-python",
   "name": "python",
   "nbconvert_exporter": "python",
   "pygments_lexer": "ipython3",
   "version": "3.10.14"
  }
 },
 "nbformat": 4,
 "nbformat_minor": 5
}
